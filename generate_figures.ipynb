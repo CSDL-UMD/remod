{
 "cells": [
  {
   "cell_type": "code",
   "execution_count": 1,
   "metadata": {},
   "outputs": [],
   "source": [
    "import sys\n",
    "sys.path.append(\"../src\")"
   ]
  },
  {
   "cell_type": "code",
   "execution_count": 2,
   "metadata": {},
   "outputs": [],
   "source": [
    "from utils.grec import get_metrics\n",
    "import matplotlib\n",
    "import matplotlib.pyplot as plt\n",
    "import numpy as np\n",
    "from matplotlib import colors\n",
    "%matplotlib inline\n",
    "# matplotlib.use(\"pgf\")\n",
    "# matplotlib.rcParams.update({\n",
    "#     \"pgf.texsystem\": \"pdflatex\",\n",
    "#     'font.family': 'serif',\n",
    "#     'text.usetex': True,\n",
    "#     'pgf.rcfonts': False,\n",
    "# })"
   ]
  },
  {
   "cell_type": "code",
   "execution_count": null,
   "metadata": {},
   "outputs": [],
   "source": [
    "matplotlib.rcParams['font.family'] = 'Avenir'\n",
    "plt.rcParams['font.size'] = 18\n",
    "plt.rcParams['axes.linewidth'] = 2\n",
    "plt.rcParams['font.family'] = 'serif'"
   ]
  },
  {
   "cell_type": "code",
   "execution_count": 3,
   "metadata": {},
   "outputs": [],
   "source": [
    "output_dir = '/data/mjsumpter/re_figs/'"
   ]
  },
  {
   "cell_type": "markdown",
   "metadata": {},
   "source": [
    "GREC METRICS"
   ]
  },
  {
   "cell_type": "code",
   "execution_count": null,
   "metadata": {},
   "outputs": [],
   "source": [
    "relation = 'institution'\n",
    "j_file = f'/data/mjsumpter/relation_extraction/grec/json/{relation}_augment-200526.json'\n",
    "metrics_i = get_metrics(j_file, relation)\n",
    "\n",
    "relation = 'education'\n",
    "j_file = f'/data/mjsumpter/relation_extraction/grec/json/{relation}_augment-200526.json'\n",
    "metrics_ed = get_metrics(j_file, relation)\n",
    "\n",
    "relation = 'dob'\n",
    "j_file = f'/data/mjsumpter/relation_extraction/grec/json/{relation}_augment-200526.json'\n",
    "metrics_dob = get_metrics(j_file, relation)\n",
    "\n",
    "relation = 'pob'\n",
    "j_file = f'/data/mjsumpter/relation_extraction/grec/json/{relation}_augment-200526.json'\n",
    "metrics_pob = get_metrics(j_file, relation)\n",
    "\n",
    "relation = 'pod'\n",
    "j_file = f'/data/mjsumpter/relation_extraction/grec/json/{relation}_augment-200526.json'\n",
    "metrics_pod = get_metrics(j_file, relation)"
   ]
  },
  {
   "cell_type": "code",
   "execution_count": null,
   "metadata": {},
   "outputs": [],
   "source": [
    "x_i = metrics_i['lengths']\n",
    "min_x_i = metrics_i['min_no_outlier']\n",
    "max_x_i = metrics_i['max_no_outlier']\n",
    "\n",
    "x_ed = metrics_ed['lengths']\n",
    "min_x_ed = metrics_ed['min_no_outlier']\n",
    "max_x_ed = metrics_ed['max_no_outlier']\n",
    "\n",
    "x_dob = metrics_dob['lengths']\n",
    "min_x_dob = metrics_dob['min_no_outlier']\n",
    "max_x_dob = metrics_dob['max_no_outlier']\n",
    "\n",
    "x_pob = metrics_pob['lengths']\n",
    "min_x_pob = metrics_pob['min_no_outlier']\n",
    "max_x_pob = metrics_pob['max_no_outlier']\n",
    "\n",
    "x_pod = metrics_pod['lengths']\n",
    "min_x_pod = metrics_pod['min_no_outlier']\n",
    "max_x_pod = metrics_pod['max_no_outlier']\n",
    "\n",
    "plt.rcParams[\"font.size\"] = \"12\"\n",
    "bins = list(range(0,300,10))\n",
    "\n",
    "# full image\n",
    "fig, axs = plt.subplots(1, 5)\n",
    "# axs[0] = plt.subplot2grid(shape=(2,6), loc=(0,0), colspan=2)\n",
    "# axs[1] = plt.subplot2grid((2,6), (0,2), colspan=2)\n",
    "# axs[2] = plt.subplot2grid((2,6), (0,4), colspan=2)\n",
    "# axs[3] = plt.subplot2grid((2,6), (1,1), colspan=2)\n",
    "# axs[4] = plt.subplot2grid((2,6), (1,3), colspan=2)\n",
    "\n",
    "\n",
    "axs[0].hist(np.clip(x_i, bins[0], bins[-1]), bins=bins, color=\"white\", edgecolor='gray', alpha=0.75)\n",
    "axs[1].hist(np.clip(x_ed, bins[0], bins[-1]), bins=bins, color=\"white\", edgecolor='gray', alpha=0.75)\n",
    "axs[2].hist(np.clip(x_dob, bins[0], bins[-1]), bins=bins, color='white', edgecolor='gray', alpha=0.75)\n",
    "axs[3].hist(np.clip(x_pob, bins[0], bins[-1]), bins=bins, color='white', edgecolor='gray', alpha=0.75)\n",
    "axs[4].hist(np.clip(x_pod, bins[0], bins[-1]), bins=bins, color='white', edgecolor='gray', alpha=0.75)\n",
    "\n",
    "\n",
    "axs[0].axvline(min_x_i, color='black', linestyle='dashed', linewidth=2).set_label('{:.0f}'.format(min_x_i))\n",
    "axs[0].axvline(x_i.mean(), color='red', linestyle='solid', linewidth=2).set_label('{:.0f}'.format(x_i.mean()))\n",
    "axs[0].axvline(max_x_i, color='black', linestyle='dashed', linewidth=2).set_label('{:.0f}'.format(max_x_i))\n",
    "\n",
    "axs[1].axvline(min_x_ed, color='black', linestyle='dashed', linewidth=2).set_label('{:.0f}'.format(min_x_ed))\n",
    "axs[1].axvline(x_ed.mean(), color='red', linestyle='solid', linewidth=2).set_label('{:.0f}'.format(x_ed.mean()))\n",
    "axs[1].axvline(max_x_ed, color='black', linestyle='dashed', linewidth=2).set_label('{:.0f}'.format(max_x_ed))\n",
    "\n",
    "axs[2].axvline(min_x_dob, color='black', linestyle='dashed', linewidth=2).set_label('{:.0f}'.format(min_x_dob))\n",
    "axs[2].axvline(x_dob.mean(), color='red', linestyle='solid', linewidth=2).set_label('{:.0f}'.format(x_dob.mean()))\n",
    "axs[2].axvline(max_x_dob, color='black', linestyle='dashed', linewidth=2).set_label('{:.0f}'.format(max_x_dob))\n",
    "\n",
    "axs[3].axvline(min_x_pob, color='black', linestyle='dashed', linewidth=2).set_label('{:.0f}'.format(min_x_pob))\n",
    "axs[3].axvline(x_pob.mean(), color='red', linestyle='solid', linewidth=2).set_label('{:.0f}'.format(x_pob.mean()))\n",
    "axs[3].axvline(max_x_pob, color='black', linestyle='dashed', linewidth=2).set_label('{:.0f}'.format(max_x_pob))\n",
    "\n",
    "axs[4].axvline(min_x_pod, color='black', linestyle='dashed', linewidth=2).set_label('{:.0f}'.format(min_x_pod))\n",
    "axs[4].axvline(x_pod.mean(), color='red', linestyle='solid', linewidth=2).set_label('{:.0f}'.format(x_pod.mean()))\n",
    "axs[4].axvline(max_x_pod, color='black', linestyle='dashed', linewidth=2).set_label('{:.0f}'.format(max_x_pod))\n",
    "\n",
    "axs[0].set_title('Institution', fontsize='small')\n",
    "axs[1].set_title('Education', fontsize='small')\n",
    "axs[2].set_title('Date of Birth', fontsize='small')\n",
    "axs[3].set_title('Place of Birth', fontsize='small')\n",
    "axs[4].set_title('Place of Death', fontsize='small')\n",
    "\n",
    "\n",
    "# axs[0].legend(loc='best', prop={'size':20})\n",
    "# axs[1].legend(loc='best', prop={'size':20})\n",
    "# axs[2].legend(loc='best', prop={'size':20})\n",
    "# axs[3].legend(loc='best', prop={'size':20})\n",
    "# axs[4].legend(loc='best', prop={'size':20})\n",
    "\n",
    "# # plt.xlim(right=200)\n",
    "# axs[0].text(max_x_i*1.1, (12000)*1.1, 'Max: {:.0f}'.format(max_x_i), transform=axs[0])\n",
    "# axs[0].text(min_x_i*0.00001, (12000)*1.1, 'Min: {:.0f}'.format(min_x_i))\n",
    "\n",
    "# axs[1].text(max_x_ed*1.1, (12000)*1.1, 'Max: {:.0f}'.format(max_x_ed))\n",
    "# axs[1].text(min_x_ed*0.00001, (12000)*1.1, 'Min: {:.0f}'.format(min_x_ed))\n",
    "\n",
    "# axs[2].text(max_x_dob*1.1, (12000)*1.1, 'Max: {:.0f}'.format(max_x_dob))\n",
    "# axs[2].text(min_x_dob*0.00001, (12000)*1.1, 'Min: {:.0f}'.format(min_x_dob))\n",
    "\n",
    "# axs[3].text(max_x_pob*1.1, (12000)*1.1, 'Max: {:.0f}'.format(max_x_pob))\n",
    "# axs[3].text(min_x_pob*0.00001, (12000)*1.1, 'Min: {:.0f}'.format(min_x_pob))\n",
    "\n",
    "# axs[4].text(max_x_pod*1.1, (12000)*1.1, 'Max: {:.0f}'.format(max_x_pod))\n",
    "# axs[4].text(min_x_pod*.00001, (12000)*1.1, 'Min: {:.0f}'.format(min_x_pod))\n",
    "\n",
    "for ax in axs.flat:\n",
    "#     ax.set(xlabel='Length of Snippet', ylabel='Number of Snippets')\n",
    "    ax.set_xlabel('Snippet Length', size='small')\n",
    "    ax.set_ylabel('Number of Snippets', size='small')\n",
    "for ax in axs.flat:\n",
    "    ax.label_outer()\n",
    "    \n",
    "\n",
    "# plt.rc('font', family='serif')\n",
    "# plt.rc('font', family='serif')\n",
    "plt.rc('xtick', labelsize='x-small')\n",
    "plt.rc('ytick', labelsize='x-small')\n",
    "# fig.suptitle('GREC Snippet Lengths')\n",
    "fig_size = plt.gcf().get_size_inches() #Get current size\n",
    "sizefactor = 11/fig_size[0] #Set a zoom factor\n",
    "# # Modify the current size by the factor\n",
    "# print(sizefactor)\n",
    "plt.gcf().set_size_inches(fig_size[0] * sizefactor, 2.5)\n",
    "plt.tight_layout()\n",
    "\n",
    "# plt.hist(np.clip(x, bins[0], bins[-1]), bins=bins )\n",
    "# plt.axvline(x.mean(), color='k', linestyle='dashed', linewidth=1)\n",
    "# plt.axvline(min_x, color='k', linestyle='dashdot', linewidth=1)\n",
    "# plt.axvline(max_x, color='k', linestyle='dashdot', linewidth=1)\n",
    "# plt.xlabel('Length of Snippet')\n",
    "# plt.ylabel('Number of Snippets')\n",
    "# plt.title('Institution')\n",
    "# plt.ylim(top=15000)\n",
    "\n",
    "# # plt.xlim(right=200)\n",
    "# plt.text(max_x*1.1, (12000)*1.1, 'Max: {:.0f}'.format(max_x))\n",
    "# plt.text(min_x*0.00001, (12000)*1.1, 'Min: {:.0f}'.format(min_x))\n",
    "plt.savefig(output_dir + 'snippet_histogram.pdf', dpi=300, transparent=False, bbox_inches='tight')"
   ]
  },
  {
   "cell_type": "markdown",
   "metadata": {},
   "source": [
    "GREC Metrics Table"
   ]
  },
  {
   "cell_type": "code",
   "execution_count": null,
   "metadata": {},
   "outputs": [],
   "source": [
    "import pandas as pd\n",
    "df = pd.DataFrame(index=['Institution', 'Education', 'Date of Birth', 'Place of Birth', 'Place of Death'], columns=['Snippets before filter', 'Snippets after filter'])"
   ]
  },
  {
   "cell_type": "code",
   "execution_count": null,
   "metadata": {},
   "outputs": [],
   "source": [
    "b = [metrics_i['num_relations'], metrics_ed['num_relations'], metrics_dob['num_relations'], metrics_pob['num_relations'], metrics_pod['num_relations']]\n",
    "a = [metrics_i['num_relations_within'], metrics_ed['num_relations_within'], metrics_dob['num_relations_within'], metrics_pob['num_relations_within'], metrics_pod['num_relations_within']]"
   ]
  },
  {
   "cell_type": "code",
   "execution_count": null,
   "metadata": {},
   "outputs": [],
   "source": [
    "df['Snippets before filter'] = b"
   ]
  },
  {
   "cell_type": "code",
   "execution_count": null,
   "metadata": {},
   "outputs": [],
   "source": [
    "df['Snippets after filter'] = a"
   ]
  },
  {
   "cell_type": "code",
   "execution_count": null,
   "metadata": {},
   "outputs": [],
   "source": [
    "print(df.to_latex())"
   ]
  },
  {
   "cell_type": "markdown",
   "metadata": {},
   "source": [
    "DNN Architecture"
   ]
  },
  {
   "cell_type": "code",
   "execution_count": 4,
   "metadata": {},
   "outputs": [],
   "source": [
    "from tensorflow.keras.utils import plot_model\n",
    "from tensorflow.keras.models import load_model"
   ]
  },
  {
   "cell_type": "code",
   "execution_count": 5,
   "metadata": {},
   "outputs": [],
   "source": [
    "dnn_wide = '/data/mjsumpter/model_compare/shortest_path_model-dnn_wide-unweighted-undirected_ontol_splits.h5'"
   ]
  },
  {
   "cell_type": "code",
   "execution_count": 6,
   "metadata": {},
   "outputs": [],
   "source": [
    "model = load_model(dnn_wide)"
   ]
  },
  {
   "cell_type": "code",
   "execution_count": 7,
   "metadata": {},
   "outputs": [
    {
     "data": {
      "image/png": "[encoded data removed]",
      "text/plain": [
       "<IPython.core.display.Image object>"
      ]
     },
     "execution_count": 7,
     "metadata": {},
     "output_type": "execute_result"
    }
   ],
   "source": [
    "plot_model(model, to_file=output_dir+'dnn_wide.png', show_shapes=True, show_layer_names=True)"
   ]
  },
  {
   "cell_type": "code",
   "execution_count": null,
   "metadata": {},
   "outputs": [],
   "source": []
  },
  {
   "cell_type": "code",
   "execution_count": null,
   "metadata": {},
   "outputs": [],
   "source": []
  },
  {
   "cell_type": "code",
   "execution_count": null,
   "metadata": {},
   "outputs": [],
   "source": []
  },
  {
   "cell_type": "code",
   "execution_count": null,
   "metadata": {},
   "outputs": [],
   "source": []
  },
  {
   "cell_type": "code",
   "execution_count": null,
   "metadata": {},
   "outputs": [],
   "source": []
  }
 ],
 "metadata": {
  "kernelspec": {
   "display_name": "re",
   "language": "python",
   "name": "re"
  },
  "language_info": {
   "codemirror_mode": {
    "name": "ipython",
    "version": 3
   },
   "file_extension": ".py",
   "mimetype": "text/x-python",
   "name": "python",
   "nbconvert_exporter": "python",
   "pygments_lexer": "ipython3",
   "version": "3.8.5"
  }
 },
 "nbformat": 4,
 "nbformat_minor": 4
}
