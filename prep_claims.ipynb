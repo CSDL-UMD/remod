{
 "cells": [
  {
   "cell_type": "markdown",
   "metadata": {},
   "source": [
    "# Prep ClaimReview Data for KnowledgeStream"
   ]
  },
  {
   "cell_type": "markdown",
   "metadata": {},
   "source": [
    "### Imports"
   ]
  },
  {
   "cell_type": "code",
   "execution_count": 1,
   "metadata": {},
   "outputs": [],
   "source": [
    "import os\n",
    "import pickle\n",
    "import pandas as pd\n",
    "import json\n",
    "import config\n",
    "from utils.file import directory_check"
   ]
  },
  {
   "cell_type": "markdown",
   "metadata": {},
   "source": [
    "### Function for Setting Truth Score"
   ]
  },
  {
   "cell_type": "code",
   "execution_count": 2,
   "metadata": {},
   "outputs": [],
   "source": [
    "def get_truth_score(relations, uid):\n",
    "    for r in relations:\n",
    "        if uid in r['UID']:\n",
    "            if r['verdict_relation'] == 'true':\n",
    "                return 1\n",
    "            else:\n",
    "                return 0"
   ]
  },
  {
   "cell_type": "markdown",
   "metadata": {},
   "source": [
    "### Read in Relations from original JSON"
   ]
  },
  {
   "cell_type": "code",
   "execution_count": 3,
   "metadata": {},
   "outputs": [],
   "source": [
    "snippets = config.JSON_DIR + '/cr.json'\n",
    "with open(snippets, 'r') as f:\n",
    "    relations = json.loads(f.read())"
   ]
  },
  {
   "cell_type": "markdown",
   "metadata": {},
   "source": [
    "### Mapping between project relation labels and DBpedia labels"
   ]
  },
  {
   "cell_type": "code",
   "execution_count": 4,
   "metadata": {},
   "outputs": [],
   "source": [
    "db_relation_map = {\n",
    "    'pob': 'dbo:birthPlace',\n",
    "    'education': 'dbo:education',\n",
    "    'institution': 'dbo:almaMater',\n",
    "    'pod': 'dbo:deathPlace',\n",
    "}"
   ]
  },
  {
   "cell_type": "markdown",
   "metadata": {},
   "source": [
    "### Read in dictionary of IDs for DBpedia nodes from KnowledgeStream"
   ]
  },
  {
   "cell_type": "code",
   "execution_count": 5,
   "metadata": {},
   "outputs": [],
   "source": [
    "db_nodes_file = config.KS_KG + '/nodes.txt'\n",
    "db_relations_file = config.KS_KG + '/relations.txt'"
   ]
  },
  {
   "cell_type": "code",
   "execution_count": 6,
   "metadata": {},
   "outputs": [],
   "source": [
    "node_dict = dict()\n",
    "relation_dict = dict()\n",
    "\n",
    "with open(db_nodes_file, 'r') as f:\n",
    "    for line in f.readlines():\n",
    "        node_mapping = line.split(' ')\n",
    "        node_dict[node_mapping[1].replace('\\n','')] = node_mapping[0]\n",
    "        \n",
    "with open(db_relations_file, 'r') as f:\n",
    "    for line in f.readlines():\n",
    "        relation_mapping = line.split(' ')\n",
    "        relation_dict[relation_mapping[1].replace('\\n','')] = relation_mapping[0]"
   ]
  },
  {
   "cell_type": "markdown",
   "metadata": {},
   "source": [
    "### Read in ClaimReview Claims and Terminal Nodes"
   ]
  },
  {
   "cell_type": "code",
   "execution_count": 7,
   "metadata": {},
   "outputs": [],
   "source": [
    "df = pd.read_pickle(config.CLAIM_DF)\n",
    "\n",
    "nodes_file = config.SP_NODES\n",
    "nodes_df = pd.read_pickle(nodes_file)"
   ]
  },
  {
   "cell_type": "markdown",
   "metadata": {},
   "source": [
    "### Assign subject and object nodes"
   ]
  },
  {
   "cell_type": "code",
   "execution_count": 8,
   "metadata": {},
   "outputs": [],
   "source": [
    "df['subject'] = df['UID'].apply(lambda x: nodes_df.loc[x, 'sub'])\n",
    "df['object'] = df['UID'].apply(lambda x: nodes_df.loc[x, 'obj'])"
   ]
  },
  {
   "cell_type": "markdown",
   "metadata": {},
   "source": [
    "### Build Dataframe to be KnowledgeStream Compatible"
   ]
  },
  {
   "cell_type": "code",
   "execution_count": 9,
   "metadata": {},
   "outputs": [
    {
     "data": {
      "text/html": [
       "<div>\n",
       "<style scoped>\n",
       "    .dataframe tbody tr th:only-of-type {\n",
       "        vertical-align: middle;\n",
       "    }\n",
       "\n",
       "    .dataframe tbody tr th {\n",
       "        vertical-align: top;\n",
       "    }\n",
       "\n",
       "    .dataframe thead th {\n",
       "        text-align: right;\n",
       "    }\n",
       "</style>\n",
       "<table border=\"1\" class=\"dataframe\">\n",
       "  <thead>\n",
       "    <tr style=\"text-align: right;\">\n",
       "      <th></th>\n",
       "      <th>sid</th>\n",
       "      <th>subject</th>\n",
       "      <th>pid</th>\n",
       "      <th>predicate</th>\n",
       "      <th>oid</th>\n",
       "      <th>object</th>\n",
       "      <th>true?</th>\n",
       "    </tr>\n",
       "    <tr>\n",
       "      <th>ID</th>\n",
       "      <th></th>\n",
       "      <th></th>\n",
       "      <th></th>\n",
       "      <th></th>\n",
       "      <th></th>\n",
       "      <th></th>\n",
       "      <th></th>\n",
       "    </tr>\n",
       "  </thead>\n",
       "  <tbody>\n",
       "    <tr>\n",
       "      <th>3</th>\n",
       "      <td>752593</td>\n",
       "      <td>dbr:Barack_Obama</td>\n",
       "      <td>65</td>\n",
       "      <td>dbo:birthPlace</td>\n",
       "      <td>5287545</td>\n",
       "      <td>dbr:United_States</td>\n",
       "      <td>1</td>\n",
       "    </tr>\n",
       "    <tr>\n",
       "      <th>4</th>\n",
       "      <td>1944127</td>\n",
       "      <td>dbr:Fred_Trump</td>\n",
       "      <td>65</td>\n",
       "      <td>dbo:birthPlace</td>\n",
       "      <td>2060365</td>\n",
       "      <td>dbr:Germany</td>\n",
       "      <td>0</td>\n",
       "    </tr>\n",
       "    <tr>\n",
       "      <th>7</th>\n",
       "      <td>4995074</td>\n",
       "      <td>dbr:Tej_Pratap_Yadav</td>\n",
       "      <td>194</td>\n",
       "      <td>dbo:education</td>\n",
       "      <td>1537320</td>\n",
       "      <td>dbr:Doctorate</td>\n",
       "      <td>0</td>\n",
       "    </tr>\n",
       "    <tr>\n",
       "      <th>10</th>\n",
       "      <td>3542399</td>\n",
       "      <td>dbr:Michelle_Obama</td>\n",
       "      <td>194</td>\n",
       "      <td>dbo:education</td>\n",
       "      <td>2832574</td>\n",
       "      <td>dbr:Juris_Doctor</td>\n",
       "      <td>0</td>\n",
       "    </tr>\n",
       "    <tr>\n",
       "      <th>14</th>\n",
       "      <td>2441220</td>\n",
       "      <td>dbr:Imee_Marcos</td>\n",
       "      <td>27</td>\n",
       "      <td>dbo:almaMater</td>\n",
       "      <td>4196756</td>\n",
       "      <td>dbr:Princeton_University</td>\n",
       "      <td>0</td>\n",
       "    </tr>\n",
       "    <tr>\n",
       "      <th>16</th>\n",
       "      <td>4020519</td>\n",
       "      <td>dbr:Patrick_Murphy_(Florida_politician)</td>\n",
       "      <td>27</td>\n",
       "      <td>dbo:almaMater</td>\n",
       "      <td>5294835</td>\n",
       "      <td>dbr:University_of_Miami</td>\n",
       "      <td>1</td>\n",
       "    </tr>\n",
       "    <tr>\n",
       "      <th>17</th>\n",
       "      <td>5391105</td>\n",
       "      <td>dbr:Vladimir_Putin</td>\n",
       "      <td>27</td>\n",
       "      <td>dbo:almaMater</td>\n",
       "      <td>4067676</td>\n",
       "      <td>dbr:Peoples'_Friendship_University_of_Russia</td>\n",
       "      <td>0</td>\n",
       "    </tr>\n",
       "    <tr>\n",
       "      <th>19</th>\n",
       "      <td>2441220</td>\n",
       "      <td>dbr:Imee_Marcos</td>\n",
       "      <td>27</td>\n",
       "      <td>dbo:almaMater</td>\n",
       "      <td>5296119</td>\n",
       "      <td>dbr:University_of_the_Philippines_College_of_Law</td>\n",
       "      <td>0</td>\n",
       "    </tr>\n",
       "    <tr>\n",
       "      <th>21</th>\n",
       "      <td>3334254</td>\n",
       "      <td>dbr:Manohar_Parrikar</td>\n",
       "      <td>167</td>\n",
       "      <td>dbo:deathPlace</td>\n",
       "      <td>2109862</td>\n",
       "      <td>dbr:Goa</td>\n",
       "      <td>0</td>\n",
       "    </tr>\n",
       "    <tr>\n",
       "      <th>23</th>\n",
       "      <td>3733234</td>\n",
       "      <td>dbr:Nasser_Al-Kharafi</td>\n",
       "      <td>167</td>\n",
       "      <td>dbo:deathPlace</td>\n",
       "      <td>3024768</td>\n",
       "      <td>dbr:Kuwait</td>\n",
       "      <td>0</td>\n",
       "    </tr>\n",
       "    <tr>\n",
       "      <th>25</th>\n",
       "      <td>2595783</td>\n",
       "      <td>dbr:Jason_Statham</td>\n",
       "      <td>167</td>\n",
       "      <td>dbo:deathPlace</td>\n",
       "      <td>3781549</td>\n",
       "      <td>dbr:New_York_(magazine)</td>\n",
       "      <td>0</td>\n",
       "    </tr>\n",
       "    <tr>\n",
       "      <th>27</th>\n",
       "      <td>3305013</td>\n",
       "      <td>dbr:Mahmoud_Abbas</td>\n",
       "      <td>27</td>\n",
       "      <td>dbo:almaMater</td>\n",
       "      <td>4067676</td>\n",
       "      <td>dbr:Peoples'_Friendship_University_of_Russia</td>\n",
       "      <td>0</td>\n",
       "    </tr>\n",
       "    <tr>\n",
       "      <th>28</th>\n",
       "      <td>467712</td>\n",
       "      <td>dbr:Ali_Khamenei</td>\n",
       "      <td>27</td>\n",
       "      <td>dbo:almaMater</td>\n",
       "      <td>4067676</td>\n",
       "      <td>dbr:Peoples'_Friendship_University_of_Russia</td>\n",
       "      <td>0</td>\n",
       "    </tr>\n",
       "  </tbody>\n",
       "</table>\n",
       "</div>"
      ],
      "text/plain": [
       "        sid                                  subject  pid       predicate  \\\n",
       "ID                                                                          \n",
       "3    752593                         dbr:Barack_Obama   65  dbo:birthPlace   \n",
       "4   1944127                           dbr:Fred_Trump   65  dbo:birthPlace   \n",
       "7   4995074                     dbr:Tej_Pratap_Yadav  194   dbo:education   \n",
       "10  3542399                       dbr:Michelle_Obama  194   dbo:education   \n",
       "14  2441220                          dbr:Imee_Marcos   27   dbo:almaMater   \n",
       "16  4020519  dbr:Patrick_Murphy_(Florida_politician)   27   dbo:almaMater   \n",
       "17  5391105                       dbr:Vladimir_Putin   27   dbo:almaMater   \n",
       "19  2441220                          dbr:Imee_Marcos   27   dbo:almaMater   \n",
       "21  3334254                     dbr:Manohar_Parrikar  167  dbo:deathPlace   \n",
       "23  3733234                    dbr:Nasser_Al-Kharafi  167  dbo:deathPlace   \n",
       "25  2595783                        dbr:Jason_Statham  167  dbo:deathPlace   \n",
       "27  3305013                        dbr:Mahmoud_Abbas   27   dbo:almaMater   \n",
       "28   467712                         dbr:Ali_Khamenei   27   dbo:almaMater   \n",
       "\n",
       "        oid                                            object  true?  \n",
       "ID                                                                    \n",
       "3   5287545                                 dbr:United_States      1  \n",
       "4   2060365                                       dbr:Germany      0  \n",
       "7   1537320                                     dbr:Doctorate      0  \n",
       "10  2832574                                  dbr:Juris_Doctor      0  \n",
       "14  4196756                          dbr:Princeton_University      0  \n",
       "16  5294835                           dbr:University_of_Miami      1  \n",
       "17  4067676      dbr:Peoples'_Friendship_University_of_Russia      0  \n",
       "19  5296119  dbr:University_of_the_Philippines_College_of_Law      0  \n",
       "21  2109862                                           dbr:Goa      0  \n",
       "23  3024768                                        dbr:Kuwait      0  \n",
       "25  3781549                           dbr:New_York_(magazine)      0  \n",
       "27  4067676      dbr:Peoples'_Friendship_University_of_Russia      0  \n",
       "28  4067676      dbr:Peoples'_Friendship_University_of_Russia      0  "
      ]
     },
     "execution_count": 9,
     "metadata": {},
     "output_type": "execute_result"
    }
   ],
   "source": [
    "# Ensure that correct relation was predicted, and both subject and object nodes are mapped to dbpedia\n",
    "df = df.loc[(df['Successful?'] == 'Yes') & (df['subject'].str.contains('dbpedia')) & (df['object'].str.contains('dbpedia'))]\n",
    "df.reset_index().drop(columns=['ID'])\n",
    "\n",
    "# Map node/edge URIs to dbr: strings\n",
    "df['subject'] = df['subject'].map(lambda x: 'dbr:' + x.split('/')[-1])\n",
    "df['object'] = df['object'].map(lambda x: 'dbr:' + x.split('/')[-1])\n",
    "df['predicate'] = df['Relation'].map(lambda x: db_relation_map[x])\n",
    "\n",
    "# Assign Truth Values\n",
    "df['true?'] = df['UID'].map(lambda x: get_truth_score(relations,x))\n",
    "\n",
    "# Find DBpedia Ids\n",
    "df['sid'] = df['subject'].map(lambda x: node_dict[x])\n",
    "df['oid'] = df['object'].map(lambda x: node_dict[x])\n",
    "df['pid'] = df['predicate'].map(lambda x: relation_dict[x])\n",
    "\n",
    "# Drop extra columns and reorganize\n",
    "df = df.drop(columns=['Relation', 'UID', 'Subject', 'Object', 'Maj_Vote', 'Short_Path', 'Prediction', 'Successful?'])\n",
    "df = df.reindex(['sid', 'subject', 'pid', 'predicate', 'oid', 'object', 'true?'],axis = 1)\n",
    "df"
   ]
  },
  {
   "cell_type": "markdown",
   "metadata": {},
   "source": [
    "### Write out results to CSV for KnowledgeStream"
   ]
  },
  {
   "cell_type": "code",
   "execution_count": 10,
   "metadata": {},
   "outputs": [],
   "source": [
    "output_dir = './knowledgestream/datasets/claimreview'\n",
    "directory_check(output_dir)\n",
    "output = output_dir + '/claims.csv'\n",
    "df.to_csv(output, index=False, header=True)"
   ]
  }
 ],
 "metadata": {
  "kernelspec": {
   "display_name": "re",
   "language": "python",
   "name": "re"
  },
  "language_info": {
   "codemirror_mode": {
    "name": "ipython",
    "version": 3
   },
   "file_extension": ".py",
   "mimetype": "text/x-python",
   "name": "python",
   "nbconvert_exporter": "python",
   "pygments_lexer": "ipython3",
   "version": "3.8.5"
  }
 },
 "nbformat": 4,
 "nbformat_minor": 4
}
