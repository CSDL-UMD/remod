{
 "cells": [
  {
   "cell_type": "code",
   "execution_count": 2,
   "metadata": {},
   "outputs": [],
   "source": [
    "from node2vec import Node2Vec\n",
    "from rdflib.extras.external_graph_libs import *\n",
    "from rdflib import Graph, URIRef, Literal\n",
    "import networkx as nx\n",
    "import numpy as np\n",
    "import os"
   ]
  },
  {
   "cell_type": "markdown",
   "metadata": {},
   "source": [
    "##### Node2Vec Constants"
   ]
  },
  {
   "cell_type": "code",
   "execution_count": 5,
   "metadata": {},
   "outputs": [],
   "source": [
    "dimensions = 128\n",
    "walk_length = 39\n",
    "num_walks = 200\n",
    "workers = -1\n",
    "\n",
    "window = 10\n",
    "min_count = 1\n",
    "batch_words = 4"
   ]
  },
  {
   "cell_type": "code",
   "execution_count": null,
   "metadata": {
    "scrolled": true
   },
   "outputs": [
    {
     "name": "stdout",
     "output_type": "stream",
     "text": [
      "Relation date_of_birth max nodes: 109\n",
      "Relation education max nodes: 115\n"
     ]
    }
   ],
   "source": [
    "rdf_dir = '../../../all_data/relation_extraction/data/rdfs/'\n",
    "relations = [x for x in os.listdir(rdf_dir) if '.csv' not in x]\n",
    "\n",
    "relation_vector_dict = dict()\n",
    "\n",
    "for relation in relations:\n",
    "    \n",
    "    relation_dir = rdf_dir + relation + '/'\n",
    "    rdf_files = [x for x in os.listdir(relation_dir) if '.rdf' in x]\n",
    "    \n",
    "    relation_vector_dict[relation] = list()\n",
    "    \n",
    "    max_nodes = 0\n",
    "    \n",
    "    for rdf_file in rdf_files:\n",
    "        rdf_path = relation_dir + rdf_file\n",
    "        # Extract RDF Graph\n",
    "        try:\n",
    "            graph = Graph()\n",
    "            graph.parse(rdf_path)\n",
    "            # Convert to networkx graph\n",
    "            nx_graph = rdflib_to_networkx_multidigraph(graph)\n",
    "            # Train and Fit Node2Vec\n",
    "#             node2vec = Node2Vec(nx_graph, dimensions=dimensions, walk_length=walk_length, num_walks=num_walks, workers=workers)\n",
    "#             model = node2vec.fit(window=window, min_count=1, batch_words=4)\n",
    "        except Exception as e:\n",
    "#             print(\"%s of relation type %s failed\" % (rdf_file, relation))\n",
    "#             print(rdf_path)\n",
    "#             print(e.__doc__)           \n",
    "            continue\n",
    "        \n",
    "        max_nodes = max(max_nodes, len(nx_graph.nodes()))\n",
    "        \n",
    "    print(\"Relation %s max nodes: %d\" % (relation, max_nodes))\n",
    "        \n",
    "        # Get number of nodes\n",
    "#         num_nodes = len(model.wv.vocab)\n",
    "        # Get a list of all Vectors\n",
    "#         vec_list = np.empty([num_nodes, dimensions])\n",
    "#         for idx, key in enumerate(model.wv.vocab):\n",
    "#             vec_list[idx] = model.wv[key]\n",
    "#         # Average all nodes, and append to the list of graph vectors for the relation    \n",
    "#         relation_vector_dict[relation].append(np.mean(vec_list, axis=0))"
   ]
  },
  {
   "cell_type": "code",
   "execution_count": null,
   "metadata": {
    "collapsed": true
   },
   "outputs": [],
   "source": []
  }
 ],
 "metadata": {
  "kernelspec": {
   "display_name": "Python 3.7.5 64-bit ('research': conda)",
   "language": "python",
   "name": "python37564bitresearchconda3e9f8a03eda24a0fa9782d6ac7155519"
  },
  "language_info": {
   "codemirror_mode": {
    "name": "ipython",
    "version": 3
   },
   "file_extension": ".py",
   "mimetype": "text/x-python",
   "name": "python",
   "nbconvert_exporter": "python",
   "pygments_lexer": "ipython3",
   "version": "3.7.5"
  }
 },
 "nbformat": 4,
 "nbformat_minor": 4
}
