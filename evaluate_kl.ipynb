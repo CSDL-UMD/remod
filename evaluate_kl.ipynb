{
 "cells": [
  {
   "cell_type": "markdown",
   "metadata": {},
   "source": [
    "# Evaluate KnowledgeStream Algorithms"
   ]
  },
  {
   "cell_type": "code",
   "execution_count": 1,
   "metadata": {},
   "outputs": [],
   "source": [
    "import os\n",
    "import datetime\n",
    "import h5py\n",
    "import logging\n",
    "import argparse\n",
    "import pickle\n",
    "import pandas as pd\n",
    "import numpy as np\n",
    "from sklearn import metrics\n",
    "from matplotlib import pyplot as plt\n",
    "import seaborn as sns\n",
    "import config\n"
   ]
  },
  {
   "cell_type": "markdown",
   "metadata": {},
   "source": [
    "### Load results of KnowledgeStream and Print Results"
   ]
  },
  {
   "cell_type": "code",
   "execution_count": 2,
   "metadata": {},
   "outputs": [
    {
     "name": "stdout",
     "output_type": "stream",
     "text": [
      "SCORES (13 Relations):\n",
      "Knowledge Linker AUC: 0.6363636363636364\n",
      "Knowledge Stream AUC: 0.7727272727272727\n",
      "Knowledge Relational Linker AUC: 0.7727272727272727\n"
     ]
    }
   ],
   "source": [
    "klink = config.KS_OUTPUT + '/out_klinker_claims_2020-11-19.csv'\n",
    "kstream = config.KS_OUTPUT + '/out_kstream_claims_2020-11-19.csv'\n",
    "relklink = config.KS_OUTPUT + '/out_relklinker_claims_2020-11-19.csv'\n",
    "\n",
    "df_klink = pd.read_csv(klink)\n",
    "df_kstream = pd.read_csv(kstream)\n",
    "df_relklink = pd.read_csv(relklink)\n",
    "\n",
    "\n",
    "print(\"SCORES (13 Relations):\")\n",
    "y = df_klink['true?'].to_list()\n",
    "predictions = df_klink['score'].to_list()\n",
    "print(f\"Knowledge Linker AUC: {metrics.roc_auc_score(y, predictions)}\")\n",
    "\n",
    "y = df_kstream['true?'].to_list()\n",
    "predictions = df_kstream['score'].to_list()\n",
    "print(f\"Knowledge Stream AUC: {metrics.roc_auc_score(y, predictions)}\")\n",
    "\n",
    "y = df_relklink['true?'].to_list()\n",
    "predictions = df_relklink['score'].to_list()\n",
    "print(f\"Knowledge Relational Linker AUC: {metrics.roc_auc_score(y, predictions)}\")\n"
   ]
  }
 ],
 "metadata": {
  "kernelspec": {
   "display_name": "re",
   "language": "python",
   "name": "re"
  },
  "language_info": {
   "codemirror_mode": {
    "name": "ipython",
    "version": 3
   },
   "file_extension": ".py",
   "mimetype": "text/x-python",
   "name": "python",
   "nbconvert_exporter": "python",
   "pygments_lexer": "ipython3",
   "version": "3.8.5"
  }
 },
 "nbformat": 4,
 "nbformat_minor": 4
}
