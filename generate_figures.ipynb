{
 "cells": [
  {
   "cell_type": "markdown",
   "metadata": {},
   "source": [
    "# Generate Histogram Figure for GREC Length Distribution"
   ]
  },
  {
   "cell_type": "code",
   "execution_count": 3,
   "metadata": {},
   "outputs": [],
   "source": [
    "import sys\n",
    "sys.path.append(\"../src\")\n",
    "import config"
   ]
  },
  {
   "cell_type": "code",
   "execution_count": 2,
   "metadata": {},
   "outputs": [],
   "source": [
    "from utils.grec import get_metrics\n",
    "import matplotlib\n",
    "import matplotlib.pyplot as plt\n",
    "import numpy as np\n",
    "from matplotlib import colors\n",
    "%matplotlib inline"
   ]
  },
  {
   "cell_type": "markdown",
   "metadata": {},
   "source": [
    "### Set global plt params"
   ]
  },
  {
   "cell_type": "code",
   "execution_count": null,
   "metadata": {},
   "outputs": [],
   "source": [
    "matplotlib.rcParams['font.family'] = 'Avenir'\n",
    "plt.rcParams['font.size'] = 18\n",
    "plt.rcParams['axes.linewidth'] = 2\n",
    "plt.rcParams['font.family'] = 'serif'"
   ]
  },
  {
   "cell_type": "markdown",
   "metadata": {},
   "source": [
    "#### GREC METRICS"
   ]
  },
  {
   "cell_type": "code",
   "execution_count": 4,
   "metadata": {},
   "outputs": [],
   "source": [
    "relation = 'institution'\n",
    "j_file = f'{config.GREC_JSON_DIR}/{relation}_augment-200526.json'\n",
    "metrics_i = get_metrics(j_file, relation)\n",
    "\n",
    "relation = 'education'\n",
    "j_file = f'{config.GREC_JSON_DIR}/{relation}_augment-200526.json'\n",
    "metrics_ed = get_metrics(j_file, relation)\n",
    "\n",
    "relation = 'dob'\n",
    "j_file = f'{config.GREC_JSON_DIR}/{relation}_augment-200526.json'\n",
    "metrics_dob = get_metrics(j_file, relation)\n",
    "\n",
    "relation = 'pob'\n",
    "j_file = f'{config.GREC_JSON_DIR}/{relation}_augment-200526.json'\n",
    "metrics_pob = get_metrics(j_file, relation)\n",
    "\n",
    "relation = 'pod'\n",
    "j_file = f'{config.GREC_JSON_DIR}/{relation}_augment-200526.json'\n",
    "metrics_pod = get_metrics(j_file, relation)"
   ]
  },
  {
   "cell_type": "code",
   "execution_count": 6,
   "metadata": {},
   "outputs": [
    {
     "data": {
      "image/png": "[encoded data removed]",
      "text/plain": [
       "<Figure size 792x180 with 5 Axes>"
      ]
     },
     "metadata": {
      "needs_background": "light"
     },
     "output_type": "display_data"
    }
   ],
   "source": [
    "x_i = metrics_i['lengths']\n",
    "min_x_i = metrics_i['min_no_outlier']\n",
    "max_x_i = metrics_i['max_no_outlier']\n",
    "\n",
    "x_ed = metrics_ed['lengths']\n",
    "min_x_ed = metrics_ed['min_no_outlier']\n",
    "max_x_ed = metrics_ed['max_no_outlier']\n",
    "\n",
    "x_dob = metrics_dob['lengths']\n",
    "min_x_dob = metrics_dob['min_no_outlier']\n",
    "max_x_dob = metrics_dob['max_no_outlier']\n",
    "\n",
    "x_pob = metrics_pob['lengths']\n",
    "min_x_pob = metrics_pob['min_no_outlier']\n",
    "max_x_pob = metrics_pob['max_no_outlier']\n",
    "\n",
    "x_pod = metrics_pod['lengths']\n",
    "min_x_pod = metrics_pod['min_no_outlier']\n",
    "max_x_pod = metrics_pod['max_no_outlier']\n",
    "\n",
    "plt.rcParams[\"font.size\"] = \"12\"\n",
    "bins = list(range(0,300,10))\n",
    "\n",
    "# full image\n",
    "fig, axs = plt.subplots(1, 5)\n",
    "\n",
    "axs[0].hist(np.clip(x_i, bins[0], bins[-1]), bins=bins, color=\"white\", edgecolor='gray', alpha=0.75)\n",
    "axs[1].hist(np.clip(x_ed, bins[0], bins[-1]), bins=bins, color=\"white\", edgecolor='gray', alpha=0.75)\n",
    "axs[2].hist(np.clip(x_dob, bins[0], bins[-1]), bins=bins, color='white', edgecolor='gray', alpha=0.75)\n",
    "axs[3].hist(np.clip(x_pob, bins[0], bins[-1]), bins=bins, color='white', edgecolor='gray', alpha=0.75)\n",
    "axs[4].hist(np.clip(x_pod, bins[0], bins[-1]), bins=bins, color='white', edgecolor='gray', alpha=0.75)\n",
    "\n",
    "\n",
    "axs[0].axvline(min_x_i, color='black', linestyle='dashed', linewidth=2).set_label('{:.0f}'.format(min_x_i))\n",
    "axs[0].axvline(x_i.mean(), color='red', linestyle='solid', linewidth=2).set_label('{:.0f}'.format(x_i.mean()))\n",
    "axs[0].axvline(max_x_i, color='black', linestyle='dashed', linewidth=2).set_label('{:.0f}'.format(max_x_i))\n",
    "\n",
    "axs[1].axvline(min_x_ed, color='black', linestyle='dashed', linewidth=2).set_label('{:.0f}'.format(min_x_ed))\n",
    "axs[1].axvline(x_ed.mean(), color='red', linestyle='solid', linewidth=2).set_label('{:.0f}'.format(x_ed.mean()))\n",
    "axs[1].axvline(max_x_ed, color='black', linestyle='dashed', linewidth=2).set_label('{:.0f}'.format(max_x_ed))\n",
    "\n",
    "axs[2].axvline(min_x_dob, color='black', linestyle='dashed', linewidth=2).set_label('{:.0f}'.format(min_x_dob))\n",
    "axs[2].axvline(x_dob.mean(), color='red', linestyle='solid', linewidth=2).set_label('{:.0f}'.format(x_dob.mean()))\n",
    "axs[2].axvline(max_x_dob, color='black', linestyle='dashed', linewidth=2).set_label('{:.0f}'.format(max_x_dob))\n",
    "\n",
    "axs[3].axvline(min_x_pob, color='black', linestyle='dashed', linewidth=2).set_label('{:.0f}'.format(min_x_pob))\n",
    "axs[3].axvline(x_pob.mean(), color='red', linestyle='solid', linewidth=2).set_label('{:.0f}'.format(x_pob.mean()))\n",
    "axs[3].axvline(max_x_pob, color='black', linestyle='dashed', linewidth=2).set_label('{:.0f}'.format(max_x_pob))\n",
    "\n",
    "axs[4].axvline(min_x_pod, color='black', linestyle='dashed', linewidth=2).set_label('{:.0f}'.format(min_x_pod))\n",
    "axs[4].axvline(x_pod.mean(), color='red', linestyle='solid', linewidth=2).set_label('{:.0f}'.format(x_pod.mean()))\n",
    "axs[4].axvline(max_x_pod, color='black', linestyle='dashed', linewidth=2).set_label('{:.0f}'.format(max_x_pod))\n",
    "\n",
    "axs[0].set_title('Institution', fontsize='small')\n",
    "axs[1].set_title('Education', fontsize='small')\n",
    "axs[2].set_title('Date of Birth', fontsize='small')\n",
    "axs[3].set_title('Place of Birth', fontsize='small')\n",
    "axs[4].set_title('Place of Death', fontsize='small')\n",
    "\n",
    "\n",
    "for ax in axs.flat:\n",
    "    ax.set_xlabel('Snippet Length', size='small')\n",
    "    ax.set_ylabel('Number of Snippets', size='small')\n",
    "for ax in axs.flat:\n",
    "    ax.label_outer()\n",
    "    \n",
    "plt.rc('xtick', labelsize='x-small')\n",
    "plt.rc('ytick', labelsize='x-small')\n",
    "fig_size = plt.gcf().get_size_inches() #Get current size\n",
    "sizefactor = 11/fig_size[0] #Set a zoom factor\n",
    "plt.gcf().set_size_inches(fig_size[0] * sizefactor, 2.5)\n",
    "plt.tight_layout()\n",
    "\n",
    "# Uncomment to save figure as .pdf\n",
    "# plt.savefig(output_dir + 'snippet_histogram.pdf', dpi=300, transparent=False, bbox_inches='tight')"
   ]
  },
  {
   "cell_type": "markdown",
   "metadata": {},
   "source": [
    "#### GREC Metrics Table"
   ]
  },
  {
   "cell_type": "code",
   "execution_count": 12,
   "metadata": {},
   "outputs": [
    {
     "name": "stdout",
     "output_type": "stream",
     "text": [
      "\\begin{tabular}{lll}\n",
      "\\toprule\n",
      "{} & Snippets before filter & Snippets after filter \\\\\n",
      "\\midrule\n",
      "Institution    &                    NaN &                   NaN \\\\\n",
      "Education      &                    NaN &                   NaN \\\\\n",
      "Date of Birth  &                    NaN &                   NaN \\\\\n",
      "Place of Birth &                    NaN &                   NaN \\\\\n",
      "Place of Death &                    NaN &                   NaN \\\\\n",
      "\\bottomrule\n",
      "\\end{tabular}\n",
      "\n"
     ]
    }
   ],
   "source": [
    "import pandas as pd\n",
    "df = pd.DataFrame(index=['Institution', 'Education', 'Date of Birth', 'Place of Birth', 'Place of Death'], columns=['Snippets before filter', 'Snippets after filter'])\n",
    "b = [metrics_i['num_relations'], metrics_ed['num_relations'], metrics_dob['num_relations'], metrics_pob['num_relations'], metrics_pod['num_relations']]\n",
    "a = [metrics_i['num_relations_within'], metrics_ed['num_relations_within'], metrics_dob['num_relations_within'], metrics_pob['num_relations_within'], metrics_pod['num_relations_within']]\n",
    "print(df.to_latex())"
   ]
  }
 ],
 "metadata": {
  "kernelspec": {
   "display_name": "re",
   "language": "python",
   "name": "re"
  },
  "language_info": {
   "codemirror_mode": {
    "name": "ipython",
    "version": 3
   },
   "file_extension": ".py",
   "mimetype": "text/x-python",
   "name": "python",
   "nbconvert_exporter": "python",
   "pygments_lexer": "ipython3",
   "version": "3.8.5"
  }
 },
 "nbformat": 4,
 "nbformat_minor": 4
}
